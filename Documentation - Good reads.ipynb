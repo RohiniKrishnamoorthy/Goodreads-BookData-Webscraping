{
 "cells": [
  {
   "cell_type": "markdown",
   "id": "2e21354b",
   "metadata": {},
   "source": [
    "# Scraping the top list of books based on Genres from Goodreads(a subsidiary of Amazon)"
   ]
  },
  {
   "cell_type": "markdown",
   "id": "799e1689",
   "metadata": {},
   "source": [
    "- Web scraping is scraping the data from websites\n",
    "- Goodreads is an American social cataloging website and a subsidiary of Amazon that allows individuals to search its database of books, annotations, quotes, and reviews. Users can sign up and register books to generate library catalogs and reading lists. They can also create their own groups of book suggestions, surveys, polls, blogs, and discussions. "
   ]
  },
  {
   "cell_type": "markdown",
   "id": "95a25fa4",
   "metadata": {},
   "source": [
    "Problem statement\n",
    "\n",
    "- We are going to the genre lists page - https://www.goodreads.com/list?ref=nav_brws_lists\n",
    "- From the genre lists page selecting each genre titles and its url\n",
    "- From the particular genre url getting the booklists types, no. of books and no. of voters\n",
    "- We are going to select a particular genre and download all the books in it"
   ]
  },
  {
   "cell_type": "markdown",
   "id": "e044463a",
   "metadata": {},
   "source": [
    "## Project Outline"
   ]
  },
  {
   "cell_type": "markdown",
   "id": "2c5663a0",
   "metadata": {},
   "source": [
    "- Step 1:\n",
    "- We're going to scrape https://www.goodreads.com/list?ref=nav_brws_lists\n",
    "- We'll get a list of genres and its url first\n",
    "\n",
    "![](https://i.imgur.com/bP6dV2I.png)\n",
    "\n",
    "- For each genre we'll get different book list types, no. of books and no. of voters.\n",
    "\n",
    "- For each Genre we got the first 30 book lists with their titles, url with number of books available and voters and saved it to a csv\n",
    "- Shown below are the different type of booklist under the genre Children\n",
    "\n",
    "![](https://i.imgur.com/K92zKed.png)"
   ]
  },
  {
   "cell_type": "markdown",
   "id": "aaffe88c",
   "metadata": {},
   "source": [
    "- Step 2:\n",
    "\n",
    "- We selected Childrens Genre and got the first 30 book list types and the first 100 books under each book list type\n",
    "\n",
    "- Each book will have the book title, Book url, Author, Avg Rating Total ratings, Book score and votes\n",
    "\n",
    "![](https://i.imgur.com/iVjp3Oq.png)\n",
    "\n",
    "\n",
    "- Saved it into a csv file"
   ]
  },
  {
   "cell_type": "markdown",
   "id": "05e39d64",
   "metadata": {},
   "source": [
    "- Step 3:\n",
    "- For each booklist type we'll create a CSV file in the following format:\n",
    "\n",
    "- Format: Book Title,Book url ,Author ,Average rating and Total Ratings ,Bookscore and votes\n",
    "\n",
    "- Example: Harry Potter series box set,https://www.goodreads.com//book/show/862041.Harry_Potter_Series_Box_Set, J.K Rowling, 4.74 avg rating ‚ 273,511 Total ratings ,score:10,671,and 110 peoplevoted"
   ]
  },
  {
   "cell_type": "markdown",
   "id": "681c8a66",
   "metadata": {},
   "source": [
    "- Step 4:\n",
    "\n",
    "- Getting the description took a lot of time so I took a particular genre Children and took a particular book list Best series under Childrens Genre and got descriptions only for those to save time and saved it into a csv file\n",
    "\n",
    "![](https://i.imgur.com/h9NOAAY.png)\n",
    "\n"
   ]
  },
  {
   "cell_type": "markdown",
   "id": "909a8f8b",
   "metadata": {},
   "source": [
    "- Step 5:\n",
    "\n",
    "- Now using while loop and for loop i want to scrape book details from atleast first 3 pages under Childrens Genre and Booklist type: Picture books and save it to a csv file"
   ]
  },
  {
   "cell_type": "markdown",
   "id": "c3c72aee",
   "metadata": {},
   "source": [
    "### Scrape the types of genres from Goodreads\n",
    "\n",
    "- use requests to download the page\n",
    "- use BS4 to parse and extract information\n",
    "- convert it into a pandas dataframe"
   ]
  },
  {
   "cell_type": "markdown",
   "id": "7ad0ca1f",
   "metadata": {},
   "source": [
    "Lets write a function to download the Genre page"
   ]
  },
  {
   "cell_type": "markdown",
   "id": "32741fe1",
   "metadata": {},
   "source": [
    "import requests\n",
    "from bs4 import BeautifulSoup\n",
    "\n",
    "def get_Genre_page(Genre_url):\n",
    "    response = requests.get(Genre_url)\n",
    "    if response.status_code != 200:\n",
    "        raise Exception('Failed to load page {}'.format(Genre_url))\n",
    "    Genre_doc = BeautifulSoup(response.text,'html.parser')\n",
    "    return Genre_doc"
   ]
  },
  {
   "cell_type": "markdown",
   "id": "35f90a07",
   "metadata": {},
   "source": [
    "Import the requests first then get the genre page with the help of the genre url \n",
    "see the code above\n"
   ]
  },
  {
   "cell_type": "markdown",
   "id": "1c7fff51",
   "metadata": {},
   "source": [
    "Next get the genre lists with the genre page you have got from the above code"
   ]
  },
  {
   "cell_type": "markdown",
   "id": "ede0cb81",
   "metadata": {},
   "source": [
    "def get_genre_lists(Genre_page):\n",
    "    Genre_list_url = Genre_page.find_all('a',{'class': 'listTitle'})\n",
    "    Genre_voters_books = Genre_page.find_all('div',{'class': 'listFullDetails'})\n",
    "    Genre_title_URL_dict = {'List_title':[], 'Genre_list_title_url':[], 'Voters and books':[]}\n",
    "    New_Genre_voters_books = []\n",
    "    for tag in Genre_list_url:\n",
    "        base_url = 'https://www.goodreads.com/'\n",
    "        Genre_title_URL_dict['List_title'].append(tag.text)\n",
    "        Genre_title_URL_dict['Genre_list_title_url'].append(base_url + tag['href']) \n",
    "    for tag in Genre_voters_books:\n",
    "        New_Genre_voters_books.append(tag.text)\n",
    "        Genre_title_URL_dict['Voters and books'] = [element.replace('\\n', '') for element in New_Genre_voters_books] \n",
    "    return pd.DataFrame(Genre_title_URL_dict)"
   ]
  },
  {
   "cell_type": "markdown",
   "id": "0e4f2b58",
   "metadata": {},
   "source": [
    "Let's create some helper functions to parse information from the genre page.\n",
    "\n",
    "To get Genre titles, we can pick a tags with the class actionLinkLite"
   ]
  },
  {
   "cell_type": "markdown",
   "id": "9c6aacd8",
   "metadata": {},
   "source": [
    "![](https://i.imgur.com/WD0Dsd0.png)"
   ]
  },
  {
   "cell_type": "markdown",
   "id": "73e3de8a",
   "metadata": {},
   "source": [
    "#I dont need the first 5 genres as they are not specific they are:Create New List, All Lists, Lists I created, Lists I've Voted On, and Lists I've Liked\n",
    "\n",
    "def get_genre_titles(doc):\n",
    "    Genre_Title = doc.find_all('a',{'class': 'actionLinkLite'})\n",
    "    n = 5\n",
    "    genres_30 = Genre_Title[n:]\n",
    "    Genre_titles = []\n",
    "    for Genre in genres_30:\n",
    "        Genre_titles.append(Genre.text.strip())\n",
    "    return Genre_titles"
   ]
  },
  {
   "cell_type": "markdown",
   "id": "642f9624",
   "metadata": {},
   "source": [
    "get_genre_titles can be used to get the list of genres"
   ]
  },
  {
   "cell_type": "markdown",
   "id": "85f0323f",
   "metadata": {},
   "source": [
    "get_genre_titles(get_Genre_page(GenreURL_all30s[1]))"
   ]
  },
  {
   "cell_type": "markdown",
   "id": "626b4226",
   "metadata": {},
   "source": [
    "Similarly we have defined functions for URLs.\n",
    "#I dont need the first 5 genres as they are not specific they are:Create New List, All Lists, Lists I created, Lists I've Voted On, and Lists I've Liked"
   ]
  },
  {
   "cell_type": "markdown",
   "id": "dd1d746a",
   "metadata": {},
   "source": [
    "def get_genre_urls(doc): \n",
    "    Genre_link_tags =  doc.find_all('a',{'class': 'actionLinkLite'})\n",
    "    n = 5\n",
    "    Genre_link_tags_30 = Genre_link_tags[n:]\n",
    "    GenreURL_all30s = []\n",
    "    base_url = 'https://www.goodreads.com/'\n",
    "    for Genre in Genre_link_tags_30:\n",
    "        GenreURL_all30s.append(base_url+Genre['href'])\n",
    "    return GenreURL_all30s"
   ]
  },
  {
   "cell_type": "markdown",
   "id": "b55e510f",
   "metadata": {},
   "source": [
    "Let's put this all together into a single function"
   ]
  },
  {
   "cell_type": "markdown",
   "id": "c8ed18a8",
   "metadata": {},
   "source": [
    "def scrape_genrelists():\n",
    "    URL = \"https://www.goodreads.com/list?ref=nav_brws_lists\"\n",
    "    #headers = {\"User-Agent\": \"Mozilla/5.0 (Macintosh; Intel Mac OS X 10_14_6) AppleWebKit/537.36 (KHTML, like Gecko) Chrome/105.0.0.0 Safari/537.36\"}\n",
    "    response = requests.get(URL)\n",
    "    if response.status_code != 200:\n",
    "        raise Exception('Failed to load page {}'.format(URL))\n",
    "    genredoc = BeautifulSoup(response.text,\"html.parser\")\n",
    "    genre_topics_dict = {'title': get_genre_titles(genredoc),\n",
    "                  'url': get_genre_urls(genredoc)}\n",
    "    return pd.DataFrame(genre_topics_dict)"
   ]
  },
  {
   "cell_type": "markdown",
   "id": "e402104b",
   "metadata": {},
   "source": [
    "The below code will give the name of different genres and its url\n",
    "\n",
    "scrape_genrelists()"
   ]
  },
  {
   "cell_type": "markdown",
   "id": "d2479a92",
   "metadata": {},
   "source": [
    "### Define a final function which will scrape the whole genres with first 30 booklist under each genre"
   ]
  },
  {
   "cell_type": "markdown",
   "id": "0708ba72",
   "metadata": {},
   "source": [
    "def scrape_genrelist(topic_url, path):\n",
    "     if os.path.exists(path):\n",
    "            print(\"The file{} already exists.Skipping...\".format(path))\n",
    "            return\n",
    "     genrelist_df = get_genre_lists(get_Genre_page(topic_url))\n",
    "     genrelist_df.to_csv(path, index = None)"
   ]
  },
  {
   "cell_type": "markdown",
   "id": "3b81f0b3",
   "metadata": {},
   "source": [
    "def scrape_genrelist_whole():\n",
    "    print('scraping list of genrelists')\n",
    "    genrelists_df = scrape_genrelists()\n",
    "    os.makedirs('genredata', exist_ok = True)\n",
    "    for index, row in genrelists_df.iterrows():\n",
    "        print('scraping genre_lists for \"{}\"'.format(row['title']))\n",
    "        scrape_genrelist(row['url'],'data/{}.csv'.format(row['title']))"
   ]
  },
  {
   "cell_type": "markdown",
   "id": "bdf58543",
   "metadata": {},
   "source": [
    "scrape_genrelist_whole()"
   ]
  },
  {
   "cell_type": "markdown",
   "id": "3e0cdb34",
   "metadata": {},
   "source": [
    "### Now i want to get a particular booklists with the first 100 books under them"
   ]
  },
  {
   "cell_type": "markdown",
   "id": "3bfcf4a3",
   "metadata": {},
   "source": [
    "Here i chose Childrens Genre and Best series book list "
   ]
  },
  {
   "cell_type": "markdown",
   "id": "9f68d255",
   "metadata": {},
   "source": [
    "Grab all the required tags and finally create a dictionary with all the book details \n",
    "\n",
    "Childrens_book_dict ={\n",
    "    'Childrens_bookTitle': Childrensbook_titles,\n",
    "    'Childrens_bookAuthor': Childrensbook_author,\n",
    "    'Book_url': Childrensbook_url,\n",
    "    'AvgBookRating_TotalRatings': Childrensbook_avg_totalRating,\n",
    "    'Childrens_votersandBooks': FinalChildrensbook_scorevotes\n",
    "}"
   ]
  },
  {
   "cell_type": "code",
   "execution_count": null,
   "id": "550e72a5",
   "metadata": {},
   "outputs": [],
   "source": [
    "convert it into a pandas dataframe\n",
    "\n",
    "ChildrensBookFrom_Best_seriesList_df = pd.DataFrame(Childrens_book_dict)"
   ]
  },
  {
   "cell_type": "markdown",
   "id": "38c650d4",
   "metadata": {},
   "source": [
    "### Define a function to get a booklist with its first 100 book details"
   ]
  },
  {
   "cell_type": "markdown",
   "id": "c37c07fd",
   "metadata": {},
   "source": [
    "def get_book_lists(list_page):\n",
    "    Children_book_title = list_page.find_all('a', {'class': 'bookTitle'})\n",
    "    Children_book_author = list_page.find_all('a', {'class': 'authorName'})\n",
    "    base_url = 'https://www.goodreads.com/'\n",
    "    Childrensbook_AvgRating_TotalRating = list_page.find_all('span', {'class': 'minirating'})\n",
    "    Childrens_book_Score = list_page.find_all('span',{'class': 'smallText uitext'})\n",
    "    Book_list_dict ={'Book Title':[], 'Book url':[], 'Author':[], 'AvgRating and TotalRatings':[], \n",
    "                     'BookScore and Votes':[]}\n",
    "    for tag in Children_book_title:\n",
    "        Book_list_dict['Book Title'].append(tag.text.strip()) \n",
    "    for tag in Children_book_title:\n",
    "        Book_list_dict['Book url'].append(base_url + tag['href'])\n",
    "    for tag in Children_book_author:\n",
    "        Book_list_dict['Author'].append(tag.text)\n",
    "    for tag in Childrensbook_AvgRating_TotalRating:\n",
    "        Book_list_dict['AvgRating and TotalRatings'].append(tag.text)\n",
    "    New_bookscores_votes = []\n",
    "    for tag in Childrens_book_Score:\n",
    "        New_bookscores_votes.append(tag.text.strip())   \n",
    "    Final_ChildrensbookScorevoters_a = [element.replace('\\n', '') for element in New_bookscores_votes]    \n",
    "    Final_ChildrensbookScorevoters_b = []\n",
    "    for i in Final_ChildrensbookScorevoters_a:\n",
    "        j = i.replace(' ','')\n",
    "        Final_ChildrensbookScorevoters_b.append(j)\n",
    "    original_list = Final_ChildrensbookScorevoters_b\n",
    "    Book_list_dict['BookScore and Votes'] = [re.sub(r\"([d])(\\w)\", r\"\\1 \\2\", ele) for ele in original_list]\n",
    "    \n",
    "    return pd.DataFrame(Book_list_dict)"
   ]
  },
  {
   "cell_type": "markdown",
   "id": "d9b6fcf2",
   "metadata": {},
   "source": [
    "get_book_lists(get_Genre_page(Childrensbook_list_URL[1]))"
   ]
  },
  {
   "cell_type": "code",
   "execution_count": null,
   "id": "70279cf4",
   "metadata": {},
   "outputs": [],
   "source": [
    "### Define a final function which will scrape the first 100 books from each booklist under a particular genre"
   ]
  },
  {
   "cell_type": "markdown",
   "id": "730277a5",
   "metadata": {},
   "source": [
    "def scrape_booklist(topic_url, path):\n",
    "    if os.path.exists(path):\n",
    "        print(\"The file{} already exists.Skipping...\".format(path))\n",
    "        return\n",
    "    list_df = get_book_lists(get_Genre_page(topic_url))\n",
    "    list_df.to_csv(path, index = None)"
   ]
  },
  {
   "cell_type": "markdown",
   "id": "1eb47e72",
   "metadata": {},
   "source": [
    "def get_booklistsURL(page):\n",
    "    Title = page.find_all('a',{'class': 'listTitle'})\n",
    "    base_url = 'https://www.goodreads.com/'\n",
    "    booklistsURL = []\n",
    "    for tag in Title:\n",
    "        booklistsURL.append(base_url + tag['href'])     \n",
    "    return booklistsURL"
   ]
  },
  {
   "cell_type": "markdown",
   "id": "0f152d31",
   "metadata": {},
   "source": [
    "def get_booklists(page):\n",
    "    Title = page.find_all('a',{'class': 'listTitle'})\n",
    "    Book_listTitle = []\n",
    "    for tag in Title:\n",
    "        Book_listTitle.append(tag.text)\n",
    "    return Book_listTitle"
   ]
  },
  {
   "cell_type": "markdown",
   "id": "d3daa61d",
   "metadata": {},
   "source": [
    "Here we have selected Childrens Genre"
   ]
  },
  {
   "cell_type": "markdown",
   "id": "85d0aa05",
   "metadata": {},
   "source": [
    "def scrape_booklists():\n",
    "    URL = \"https://www.goodreads.com/list/tag/children\"\n",
    "    response = requests.get(URL)\n",
    "    if response.status_code != 200:\n",
    "        raise Exception('Failed to load page {}'.format(URL))\n",
    "    Bookdoc = BeautifulSoup(response.text,\"html.parser\")\n",
    "    Book_title_dict = {'title': get_booklists(Bookdoc),\n",
    "                      'url': get_booklistsURL(Bookdoc)}\n",
    "    return pd.DataFrame(Book_title_dict)"
   ]
  },
  {
   "cell_type": "markdown",
   "id": "bd3dec02",
   "metadata": {},
   "source": [
    "def scrape_booklist_whole():\n",
    "    print('scraping list of books')\n",
    "    booklists_df = scrape_booklists()\n",
    "    os.makedirs('Childrensbookdata', exist_ok = True)\n",
    "    for index, row in booklists_df.iterrows():\n",
    "        print('scraping book_lists for \"{}\"'.format(row['title']))\n",
    "        scrape_booklist(row['url'],'data/{}.csv'.format(row['title']))"
   ]
  },
  {
   "cell_type": "markdown",
   "id": "fd861aae",
   "metadata": {},
   "source": [
    "### For adding description do the following"
   ]
  },
  {
   "cell_type": "markdown",
   "id": "926d503c",
   "metadata": {},
   "source": [
    "#### Adding description takes more time to scrape therefore showing it only for a particular booklist"
   ]
  },
  {
   "cell_type": "markdown",
   "id": "9a8d3e2e",
   "metadata": {},
   "source": [
    "define a function to get the description tag which are div tags\n",
    "\n",
    "def get_desc(Childrensbook_url):\n",
    "    desc1 = get_Genre_page(Childrensbook_url).find_all('div',{'class': 'readable stacked'})  \n",
    "    desc_list = []\n",
    "    for tag in desc1:\n",
    "        desc_list.append(desc1[0].text[0:300].strip())\n",
    "    return desc_list"
   ]
  },
  {
   "cell_type": "markdown",
   "id": "08fcaac3",
   "metadata": {},
   "source": [
    "![](https://i.imgur.com/I4lRI1L.png)\n",
    "\n"
   ]
  },
  {
   "cell_type": "markdown",
   "id": "fea918bf",
   "metadata": {},
   "source": [
    "- Create a description list\n",
    "\n",
    "desc_dict = []    \n",
    "for tag in range(len(Childrensbook_url)):\n",
    "    desc_dict.append(get_desc(Childrensbook_url[tag]))"
   ]
  },
  {
   "cell_type": "markdown",
   "id": "96bf5426",
   "metadata": {},
   "source": [
    "Childrens_book_dict ={\n",
    "    'Childrens_bookTitle': Childrensbook_titles,\n",
    "    'Description': desc_dict,\n",
    "    'Childrens_bookAuthor': Childrensbook_author,\n",
    "    'Book_url': Childrensbook_url,\n",
    "    'AvgBookRating_TotalRatings': Childrensbook_avg_totalRating,\n",
    "    'Childrens_votersandBooks': FinalChildrensbook_scorevotes\n",
    "}"
   ]
  },
  {
   "cell_type": "markdown",
   "id": "6d41553c",
   "metadata": {},
   "source": [
    "ChildrensBookFrom_Best_seriesList_df = pd.DataFrame(Childrens_book_dict)"
   ]
  },
  {
   "cell_type": "markdown",
   "id": "68de8b08",
   "metadata": {},
   "source": [
    "- Save it to a csv file\n",
    "- Likewise you can scrape for all types of genres and booklists but it takes more time to scrape therefore I have shown for only the Best series list under the Childrens genre\n",
    "\n",
    "ChildrensBookFrom_Best_seriesList_df.to_csv('ChildrensBookFrom_Best_seriesList_descriptions.csv',index = None)"
   ]
  },
  {
   "cell_type": "markdown",
   "id": "2db9aa80",
   "metadata": {},
   "source": [
    "### Create a loop to get the list of books for atleast 3 pages"
   ]
  },
  {
   "cell_type": "markdown",
   "id": "8c550541",
   "metadata": {},
   "source": [
    "- Again I have scraped only the title and url as more the details more the time it takes to scrape\n",
    "- Also I have taken only the 3 pages under picture books \n",
    "\n",
    "page = 1\n",
    "Picture_Books = []\n",
    "while page !=4:\n",
    "    base_url = 'https://www.goodreads.com/'\n",
    "    url = f\"https://www.goodreads.com/list/show/460.Best_Picture_Books?page={page}\"\n",
    "    response = requests.get(url)\n",
    "    soup = BeautifulSoup(response.content,\"html.parser\")\n",
    "    for book in soup.find_all(\"a\", class_=\"bookTitle\"):\n",
    "        picture_book = {}\n",
    "        picture_book[\"title\"] = book.get_text(strip=True)\n",
    "        picture_book[\"url\"] = base_url+book['href']\n",
    "        Picture_Books.append(picture_book)\n",
    "    page = page + 1"
   ]
  },
  {
   "cell_type": "markdown",
   "id": "c73cb0ff",
   "metadata": {},
   "source": [
    "Picture_books_df = pd.DataFrame(Picture_Books)"
   ]
  },
  {
   "cell_type": "markdown",
   "id": "35cf3e41",
   "metadata": {},
   "source": [
    "- Finally save it to a csv file\n",
    "\n",
    "Picture_books_df.to_csv('picture_books_3pages.csv',index = None)"
   ]
  },
  {
   "cell_type": "markdown",
   "id": "f2abb637",
   "metadata": {},
   "source": [
    "### References and Future work"
   ]
  },
  {
   "cell_type": "markdown",
   "id": "986115f0",
   "metadata": {},
   "source": [
    "Summary of what we did\n",
    "\n",
    "- Scraped all the genre types first\n",
    "- Scraped all the booklist types under each genres. Only the first 30 booklist types under each genre taken\n",
    "- Scraped the first 100 books under each booklists under a particular genre\n",
    "- Scraped the first 3 lines of the descriptions for a particular booklist alone under the childrens genre\n",
    "- Scraped the book details from 3 pages for a particular booklist under the childrens genre"
   ]
  },
  {
   "cell_type": "markdown",
   "id": "161e55e1",
   "metadata": {},
   "source": [
    "Ideas for future work\n",
    "\n",
    "- Can scrape the booklist types from all the genres\n",
    "- Can scrape all the books with their descriptions for all the booklist types"
   ]
  },
  {
   "cell_type": "code",
   "execution_count": null,
   "id": "318f3778",
   "metadata": {},
   "outputs": [],
   "source": []
  },
  {
   "cell_type": "code",
   "execution_count": null,
   "id": "9d187c5f",
   "metadata": {},
   "outputs": [],
   "source": []
  }
 ],
 "metadata": {
  "kernelspec": {
   "display_name": "Python 3 (ipykernel)",
   "language": "python",
   "name": "python3"
  },
  "language_info": {
   "codemirror_mode": {
    "name": "ipython",
    "version": 3
   },
   "file_extension": ".py",
   "mimetype": "text/x-python",
   "name": "python",
   "nbconvert_exporter": "python",
   "pygments_lexer": "ipython3",
   "version": "3.9.7"
  }
 },
 "nbformat": 4,
 "nbformat_minor": 5
}
